{
 "cells": [
  {
   "cell_type": "markdown",
   "metadata": {},
   "source": [
    "# Outline of the Project Steps - Working Document"
   ]
  },
  {
   "cell_type": "markdown",
   "metadata": {},
   "source": [
    "Thought this would be a good place to write down all the things we want/need to do for the project and then maybe cross them off as we work through them.  Also a way to communicate about where we are stuck and all the little bits of information we come across for the project.  Thought this could be our informal placeholder for the work - we will put any major analysis in the main notebook.\n",
    "\n",
    "----------"
   ]
  },
  {
   "cell_type": "markdown",
   "metadata": {},
   "source": [
    "## openFDA website\n",
    "\n",
    "https://open.fda.gov/apis/drug/event/explore-the-api-with-an-interactive-chart/"
   ]
  },
  {
   "cell_type": "markdown",
   "metadata": {},
   "source": [
    "## potential questions\n",
    "1. seasonal/monthly differences in reporting of adverse events\n",
    "2. differences in reporting (counts?) between males and females\n",
    "3. differences in reporting (counts?) among age groups (young vs old)\n",
    "4. seasonal/monthly differences in reporting of drug types, like those used to treat diabetes or anxiety/depression"
   ]
  },
  {
   "cell_type": "markdown",
   "metadata": {},
   "source": [
    "## Queries that might help get at these questions\n",
    "(these might just be notes for myself so I don't lose these links!)\n",
    "\n",
    "https://api.fda.gov/drug/event.json?count=receivedate&search=receivedate:[20100101+TO+20211001]\n",
    "\n",
    "Pulls the count by receive date between the dates given 2010-2021\n",
    "most recent record is 2021-06-30\n",
    "\n",
    "https://api.fda.gov/drug/event.json?search=receivedate:[20100101+TO+20211101]&limit=10\n",
    "\n",
    "pulls all the data for those dates, limited to 10 records"
   ]
  },
  {
   "cell_type": "markdown",
   "metadata": {},
   "source": [
    "## Format when using the API key\n",
    "\n",
    "https://api.fda.gov/drug/event.json?api_key=yourAPIKeyHere&search=...\n",
    "\n",
    "See this website for details: https://open.fda.gov/apis/authentication/"
   ]
  },
  {
   "cell_type": "code",
   "execution_count": null,
   "metadata": {},
   "outputs": [],
   "source": []
  }
 ],
 "metadata": {
  "kernelspec": {
   "display_name": "Python 3",
   "language": "python",
   "name": "python3"
  },
  "language_info": {
   "codemirror_mode": {
    "name": "ipython",
    "version": 3
   },
   "file_extension": ".py",
   "mimetype": "text/x-python",
   "name": "python",
   "nbconvert_exporter": "python",
   "pygments_lexer": "ipython3",
   "version": "3.7.3"
  }
 },
 "nbformat": 4,
 "nbformat_minor": 2
}
