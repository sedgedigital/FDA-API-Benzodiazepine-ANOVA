{
 "cells": [
  {
   "cell_type": "markdown",
   "metadata": {},
   "source": [
    "# openFDA API - Exploring Adverse Event Reports for Medications \n",
    "### Data from the FDA Adverse Event Reporting System (FAERS) database containing information on adverse event and medication error reports submitted to the FDA (https://open.fda.gov/apis/drug/event/)\n",
    "\n",
    "\n",
    "-----\n",
    "\n"
   ]
  },
  {
   "cell_type": "markdown",
   "metadata": {},
   "source": [
    "## Executive Summary\n",
    "\n",
    "\n",
    "#### Benzodiazepine Analysis\n",
    "The first analysis was focused on evaluating seasonality in the Benzodiazepine pharmacological class of medications.  The hypothesis is that if there is an increase in adverse event reports during certain months then maybe that is tied to a greater number of prescriptions written during that period, and perhaps a seasonal need for the medication, like greater depression and anxiety during the winter months. openFDA API was used to gather the data related to date of the adverse report (between 2015 and 2021), the patient's gender and patient's age for any reports documenting benzodiazapines as the pharmocological class of medication.\n",
    "\n",
    "The hypothesis was that there may be a greater number of adverse events for benzodiazepines in the winter months because more of the medication is prescribed during that time, perhaps related to seasonal depression in the winter. Indeed, we found that there is an statistically significant increase in benzodiazepine adverse event reports during the winter months from 2015 - 2021 (specifically, December, January and February). And the greatest number of reports came from patients between the ages of 50-69. The patients in this age group also showed statistically significant higher adverse report counts during the same months. Although the API doesn't provide data on count of prescriptions written, it is plausible that there is a seasonality effect in benzodiazepine issuance.\n",
    "\n",
    "#### Jamie add your \"exec summary\" here!\n",
    "\n",
    "\n",
    "\n",
    "\n"
   ]
  },
  {
   "cell_type": "markdown",
   "metadata": {},
   "source": [
    "## Project Hypotheses:\n",
    "\n",
    "### 1. Are there more adverse event reports for benzodiazepine medications during the winter months?\n",
    "### 2. Jamie - Fill in your question here!"
   ]
  },
  {
   "cell_type": "markdown",
   "metadata": {},
   "source": [
    "import packages/libraries"
   ]
  },
  {
   "cell_type": "code",
   "execution_count": 3,
   "metadata": {},
   "outputs": [],
   "source": [
    "import matplotlib.pyplot as plt\n",
    "import pandas as pd\n",
    "import numpy as np\n",
    "import requests\n",
    "import time\n",
    "import json\n",
    "from pprint import pprint\n",
    "from datetime import datetime\n",
    "import seaborn as sns\n",
    "import scipy.stats as stats\n"
   ]
  },
  {
   "cell_type": "markdown",
   "metadata": {},
   "source": [
    "### Benzodiazapine Analysis"
   ]
  },
  {
   "cell_type": "markdown",
   "metadata": {},
   "source": [
    "Creating the Benzodiazepine dataset: Based on the structure of the the API, the sheer size of the database, the 1000 record limit per call, the 'count' function in the API callquery was used.  This was instead of 'paging' through the 500,000 or more records that matched the search.  The API calls for this analysis are the same with the exception of male and female, and age.  The API calls are set up to loop through each age (min to max) for males and females. The pharmalogical class of Benzodiazepine is used as search criteria, along with the years of 01/01/2015 to 10/31/2021. Then the two datasets (male and female) are combined and used for the analysis."
   ]
  },
  {
   "cell_type": "code",
   "execution_count": 4,
   "metadata": {},
   "outputs": [],
   "source": [
    "#create dictionary to hold new data\n",
    "benzo = {'time':[],'benzo_count':[], 'gender':[], 'age': []}\n",
    "\n",
    "#all ages for MALES\n",
    "\n",
    "#loop through all ages\n",
    "for age in range(0,101):\n",
    "    #input age into url\n",
    "    url='https://api.fda.gov/drug/event.json?search=patient.drug.openfda.pharm_class_epc.exact:\"Benzodiazepine+[EPC]\"+AND+patient.patientsex:\"1\"+AND+patient.patientonsetage:' + '\"' + str(age) + '\"'+'+AND+receivedate:[20150101+TO+20211001]&count=receivedate'\n",
    "    #run api call\n",
    "    req=requests.get(url) \n",
    "    data = req.json()\n",
    "    #subset out the dataset to include only the results section\n",
    "    benzo_datalist = data['results']\n",
    "    #loop through the json dataset appending data associated with BENZO, MALE, AGE\n",
    "    for i in range(len(benzo_datalist)):\n",
    "        benzo['time'].append(benzo_datalist[i]['time'])\n",
    "        benzo['benzo_count'].append(benzo_datalist[i]['count'])\n",
    "        benzo['gender'].append(\"Male\")\n",
    "        benzo['age'].append(age)\n",
    "        #print(\"processing \" + str(age) + \" in loop number \" + str(i))   #if processing activity is needed, use this print call"
   ]
  },
  {
   "cell_type": "code",
   "execution_count": 5,
   "metadata": {},
   "outputs": [],
   "source": [
    "#all ages for FEMALES\n",
    "\n",
    "#loop through all ages\n",
    "for age in range(0,101):\n",
    "    #input age into url\n",
    "    url='https://api.fda.gov/drug/event.json?search=patient.drug.openfda.pharm_class_epc.exact:\"Benzodiazepine+[EPC]\"+AND+patient.patientsex:\"2\"+AND+patient.patientonsetage:' + '\"' + str(age) + '\"'+'+AND+receivedate:[20150101+TO+20211001]&count=receivedate'\n",
    "    #run api call\n",
    "    req=requests.get(url) \n",
    "    data = req.json()\n",
    "    #subset out the dataset to include only the results section\n",
    "    benzo_datalist = data['results']\n",
    "    #loop through the json dataset appending data associated with BENZO, FEMALE, AGE\n",
    "    for i in range(len(benzo_datalist)):\n",
    "        benzo['time'].append(benzo_datalist[i]['time'])\n",
    "        benzo['benzo_count'].append(benzo_datalist[i]['count'])\n",
    "        benzo['gender'].append(\"Female\")\n",
    "        benzo['age'].append(age)\n",
    "        #print(\"processing age\" + str(age) + \" in loop number \" + str(i))  #if processing activity is needed, use this print"
   ]
  },
  {
   "cell_type": "markdown",
   "metadata": {},
   "source": [
    "Create DataFrame"
   ]
  },
  {
   "cell_type": "code",
   "execution_count": 6,
   "metadata": {},
   "outputs": [
    {
     "data": {
      "text/html": [
       "<div>\n",
       "<style scoped>\n",
       "    .dataframe tbody tr th:only-of-type {\n",
       "        vertical-align: middle;\n",
       "    }\n",
       "\n",
       "    .dataframe tbody tr th {\n",
       "        vertical-align: top;\n",
       "    }\n",
       "\n",
       "    .dataframe thead th {\n",
       "        text-align: right;\n",
       "    }\n",
       "</style>\n",
       "<table border=\"1\" class=\"dataframe\">\n",
       "  <thead>\n",
       "    <tr style=\"text-align: right;\">\n",
       "      <th></th>\n",
       "      <th>time</th>\n",
       "      <th>benzo_count</th>\n",
       "      <th>gender</th>\n",
       "      <th>age</th>\n",
       "    </tr>\n",
       "  </thead>\n",
       "  <tbody>\n",
       "    <tr>\n",
       "      <th>136126</th>\n",
       "      <td>20210331</td>\n",
       "      <td>2</td>\n",
       "      <td>Female</td>\n",
       "      <td>100</td>\n",
       "    </tr>\n",
       "    <tr>\n",
       "      <th>136127</th>\n",
       "      <td>20210413</td>\n",
       "      <td>1</td>\n",
       "      <td>Female</td>\n",
       "      <td>100</td>\n",
       "    </tr>\n",
       "    <tr>\n",
       "      <th>136128</th>\n",
       "      <td>20210511</td>\n",
       "      <td>1</td>\n",
       "      <td>Female</td>\n",
       "      <td>100</td>\n",
       "    </tr>\n",
       "    <tr>\n",
       "      <th>136129</th>\n",
       "      <td>20210824</td>\n",
       "      <td>1</td>\n",
       "      <td>Female</td>\n",
       "      <td>100</td>\n",
       "    </tr>\n",
       "    <tr>\n",
       "      <th>136130</th>\n",
       "      <td>20210831</td>\n",
       "      <td>1</td>\n",
       "      <td>Female</td>\n",
       "      <td>100</td>\n",
       "    </tr>\n",
       "  </tbody>\n",
       "</table>\n",
       "</div>"
      ],
      "text/plain": [
       "            time  benzo_count  gender  age\n",
       "136126  20210331            2  Female  100\n",
       "136127  20210413            1  Female  100\n",
       "136128  20210511            1  Female  100\n",
       "136129  20210824            1  Female  100\n",
       "136130  20210831            1  Female  100"
      ]
     },
     "execution_count": 6,
     "metadata": {},
     "output_type": "execute_result"
    }
   ],
   "source": [
    "benzo_df = pd.DataFrame.from_dict(benzo)\n",
    "benzo_df.tail()"
   ]
  },
  {
   "cell_type": "code",
   "execution_count": 7,
   "metadata": {},
   "outputs": [
    {
     "data": {
      "text/html": [
       "<div>\n",
       "<style scoped>\n",
       "    .dataframe tbody tr th:only-of-type {\n",
       "        vertical-align: middle;\n",
       "    }\n",
       "\n",
       "    .dataframe tbody tr th {\n",
       "        vertical-align: top;\n",
       "    }\n",
       "\n",
       "    .dataframe thead th {\n",
       "        text-align: right;\n",
       "    }\n",
       "</style>\n",
       "<table border=\"1\" class=\"dataframe\">\n",
       "  <thead>\n",
       "    <tr style=\"text-align: right;\">\n",
       "      <th></th>\n",
       "      <th>time</th>\n",
       "      <th>benzo_count</th>\n",
       "      <th>gender</th>\n",
       "      <th>age</th>\n",
       "      <th>date</th>\n",
       "      <th>month</th>\n",
       "      <th>year</th>\n",
       "    </tr>\n",
       "  </thead>\n",
       "  <tbody>\n",
       "    <tr>\n",
       "      <th>0</th>\n",
       "      <td>20150107</td>\n",
       "      <td>1</td>\n",
       "      <td>Male</td>\n",
       "      <td>0</td>\n",
       "      <td>2015-01-07</td>\n",
       "      <td>1</td>\n",
       "      <td>2015</td>\n",
       "    </tr>\n",
       "    <tr>\n",
       "      <th>1</th>\n",
       "      <td>20150115</td>\n",
       "      <td>1</td>\n",
       "      <td>Male</td>\n",
       "      <td>0</td>\n",
       "      <td>2015-01-15</td>\n",
       "      <td>1</td>\n",
       "      <td>2015</td>\n",
       "    </tr>\n",
       "    <tr>\n",
       "      <th>2</th>\n",
       "      <td>20150225</td>\n",
       "      <td>1</td>\n",
       "      <td>Male</td>\n",
       "      <td>0</td>\n",
       "      <td>2015-02-25</td>\n",
       "      <td>2</td>\n",
       "      <td>2015</td>\n",
       "    </tr>\n",
       "    <tr>\n",
       "      <th>3</th>\n",
       "      <td>20150305</td>\n",
       "      <td>2</td>\n",
       "      <td>Male</td>\n",
       "      <td>0</td>\n",
       "      <td>2015-03-05</td>\n",
       "      <td>3</td>\n",
       "      <td>2015</td>\n",
       "    </tr>\n",
       "    <tr>\n",
       "      <th>4</th>\n",
       "      <td>20150504</td>\n",
       "      <td>1</td>\n",
       "      <td>Male</td>\n",
       "      <td>0</td>\n",
       "      <td>2015-05-04</td>\n",
       "      <td>5</td>\n",
       "      <td>2015</td>\n",
       "    </tr>\n",
       "  </tbody>\n",
       "</table>\n",
       "</div>"
      ],
      "text/plain": [
       "       time  benzo_count gender  age       date  month  year\n",
       "0  20150107            1   Male    0 2015-01-07      1  2015\n",
       "1  20150115            1   Male    0 2015-01-15      1  2015\n",
       "2  20150225            1   Male    0 2015-02-25      2  2015\n",
       "3  20150305            2   Male    0 2015-03-05      3  2015\n",
       "4  20150504            1   Male    0 2015-05-04      5  2015"
      ]
     },
     "execution_count": 7,
     "metadata": {},
     "output_type": "execute_result"
    }
   ],
   "source": [
    "#convert 'time' to timedate column, create month, year columns\n",
    "\n",
    "benzo_df['date'] = pd.to_datetime(benzo_df['time'])\n",
    "benzo_df['month'] = benzo_df['date'].dt.month\n",
    "benzo_df['year'] = benzo_df['date'].dt.year\n",
    "benzo_df.head()"
   ]
  },
  {
   "cell_type": "markdown",
   "metadata": {},
   "source": [
    "Groupby month and year to get clean counts for graphical display"
   ]
  },
  {
   "cell_type": "code",
   "execution_count": 8,
   "metadata": {},
   "outputs": [
    {
     "data": {
      "text/html": [
       "<div>\n",
       "<style scoped>\n",
       "    .dataframe tbody tr th:only-of-type {\n",
       "        vertical-align: middle;\n",
       "    }\n",
       "\n",
       "    .dataframe tbody tr th {\n",
       "        vertical-align: top;\n",
       "    }\n",
       "\n",
       "    .dataframe thead th {\n",
       "        text-align: right;\n",
       "    }\n",
       "</style>\n",
       "<table border=\"1\" class=\"dataframe\">\n",
       "  <thead>\n",
       "    <tr style=\"text-align: right;\">\n",
       "      <th></th>\n",
       "      <th>month</th>\n",
       "      <th>year</th>\n",
       "      <th>benzo_count</th>\n",
       "    </tr>\n",
       "  </thead>\n",
       "  <tbody>\n",
       "    <tr>\n",
       "      <th>0</th>\n",
       "      <td>1</td>\n",
       "      <td>2015</td>\n",
       "      <td>2875</td>\n",
       "    </tr>\n",
       "    <tr>\n",
       "      <th>1</th>\n",
       "      <td>1</td>\n",
       "      <td>2016</td>\n",
       "      <td>2910</td>\n",
       "    </tr>\n",
       "    <tr>\n",
       "      <th>2</th>\n",
       "      <td>1</td>\n",
       "      <td>2017</td>\n",
       "      <td>3199</td>\n",
       "    </tr>\n",
       "    <tr>\n",
       "      <th>3</th>\n",
       "      <td>1</td>\n",
       "      <td>2018</td>\n",
       "      <td>3419</td>\n",
       "    </tr>\n",
       "    <tr>\n",
       "      <th>4</th>\n",
       "      <td>1</td>\n",
       "      <td>2019</td>\n",
       "      <td>4161</td>\n",
       "    </tr>\n",
       "  </tbody>\n",
       "</table>\n",
       "</div>"
      ],
      "text/plain": [
       "   month  year  benzo_count\n",
       "0      1  2015         2875\n",
       "1      1  2016         2910\n",
       "2      1  2017         3199\n",
       "3      1  2018         3419\n",
       "4      1  2019         4161"
      ]
     },
     "execution_count": 8,
     "metadata": {},
     "output_type": "execute_result"
    }
   ],
   "source": [
    "benzo_grp = benzo_df.groupby([\"month\", \"year\"])[\"benzo_count\"].sum().reset_index()\n",
    "benzo_grp.head()"
   ]
  },
  {
   "cell_type": "markdown",
   "metadata": {},
   "source": [
    "Using boxplots to determine the variation of the counts by month for the years evaluated"
   ]
  },
  {
   "cell_type": "code",
   "execution_count": 17,
   "metadata": {},
   "outputs": [
    {
     "data": {
      "image/png": "[encoded data removed]",
      "text/plain": [
       "<Figure size 432x288 with 1 Axes>"
      ]
     },
     "metadata": {
      "needs_background": "light"
     },
     "output_type": "display_data"
    }
   ],
   "source": [
    "benzo_mo = sns.boxplot(x=\"month\",y=\"benzo_count\", data=benzo_grp)\n",
    "plt.title('Count of event reports by month for 2015-2021')\n",
    "plt.xlabel('Month')\n",
    "plt.ylabel('Benzodiazepine Event Count')\n",
    "plt.show()\n",
    "\n",
    "fig = benzo_mo.get_figure()\n",
    "fig.savefig('sns_benzo_mo_box.svg')"
   ]
  },
  {
   "cell_type": "markdown",
   "metadata": {},
   "source": [
    "Bar chart showing total counts of adverse event reports by month for the years 2015 to 2021"
   ]
  },
  {
   "cell_type": "code",
   "execution_count": 23,
   "metadata": {},
   "outputs": [
    {
     "data": {
      "image/png": "[encoded data removed]",
      "text/plain": [
       "<Figure size 432x288 with 1 Axes>"
      ]
     },
     "metadata": {
      "needs_background": "light"
     },
     "output_type": "display_data"
    }
   ],
   "source": [
    "benzo_bar = benzo_df.groupby(\"month\")[\"benzo_count\"].sum().reset_index()\n",
    "benzo_mo_bar = sns.barplot(x=\"month\",y=\"benzo_count\", data=benzo_bar, ci=None)\n",
    "plt.title(\"Count of event reports by month for 2015-2021\")\n",
    "plt.xlabel(\"Month\")\n",
    "plt.ylabel(\"Benzodiazapine Event Count\")\n",
    "plt.show()\n",
    "\n",
    "fig = benzo_mo_bar.get_figure()\n",
    "fig.savefig('sns_benzo_bar_all.svg')"
   ]
  },
  {
   "cell_type": "markdown",
   "metadata": {},
   "source": [
    "1-way ANOVA to determine if there is a significant difference in monthly adverse event reports (month vs. count)"
   ]
  },
  {
   "cell_type": "code",
   "execution_count": 25,
   "metadata": {},
   "outputs": [
    {
     "data": {
      "text/plain": [
       "F_onewayResult(statistic=92.3301052449245, pvalue=5.289617039407684e-210)"
      ]
     },
     "execution_count": 25,
     "metadata": {},
     "output_type": "execute_result"
    }
   ],
   "source": [
    "#ANOVA \n",
    "dataset=benzo_df\n",
    "stats.f_oneway(dataset['benzo_count'][dataset['month']==1],\n",
    "               dataset['benzo_count'][dataset['month']==2],\n",
    "               dataset['benzo_count'][dataset['month']==3],\n",
    "               dataset['benzo_count'][dataset['month']==4],\n",
    "               dataset['benzo_count'][dataset['month']==5],\n",
    "               dataset['benzo_count'][dataset['month']==6],\n",
    "               dataset['benzo_count'][dataset['month']==7],\n",
    "               dataset['benzo_count'][dataset['month']==8],\n",
    "               dataset['benzo_count'][dataset['month']==9],\n",
    "               dataset['benzo_count'][dataset['month']==10],\n",
    "               dataset['benzo_count'][dataset['month']==11],\n",
    "               dataset['benzo_count'][dataset['month']==12])"
   ]
  },
  {
   "cell_type": "markdown",
   "metadata": {},
   "source": [
    "The 1-way ANOVA shows that there is a significant different among the months [F_onewayResult(statistic=92.3301052449245, pvalue=5.289617039407684e-210)] but a Post-Hoc Pair-wise Tukey test is needed to determine which months are statistically different than the rest."
   ]
  },
  {
   "cell_type": "code",
   "execution_count": 26,
   "metadata": {},
   "outputs": [
    {
     "name": "stdout",
     "output_type": "stream",
     "text": [
      "Multiple Comparison of Means - Tukey HSD, FWER=0.05 \n",
      "====================================================\n",
      "group1 group2 meandiff p-adj   lower   upper  reject\n",
      "----------------------------------------------------\n",
      "     1      2  -0.0035    0.9 -0.0437  0.0367  False\n",
      "     1      3  -0.2126  0.001 -0.2531 -0.1721   True\n",
      "     1      4  -0.2281  0.001 -0.2694 -0.1869   True\n",
      "     1      5   -0.206  0.001 -0.2469 -0.1652   True\n",
      "     1      6  -0.2261  0.001 -0.2672 -0.1851   True\n",
      "     1      7  -0.1997  0.001 -0.2402 -0.1592   True\n",
      "     1      8  -0.2006  0.001 -0.2415 -0.1597   True\n",
      "     1      9  -0.1927  0.001 -0.2339 -0.1515   True\n",
      "     1     10  -0.2326  0.001 -0.2755 -0.1897   True\n",
      "     1     11  -0.2433  0.001 -0.2864 -0.2002   True\n",
      "     1     12   -0.117  0.001 -0.1585 -0.0756   True\n",
      "     2      3  -0.2091  0.001 -0.2503 -0.1678   True\n",
      "     2      4  -0.2247  0.001 -0.2666 -0.1827   True\n",
      "     2      5  -0.2025  0.001 -0.2442 -0.1609   True\n",
      "     2      6  -0.2226  0.001 -0.2644 -0.1809   True\n",
      "     2      7  -0.1962  0.001 -0.2375 -0.1549   True\n",
      "     2      8  -0.1971  0.001 -0.2388 -0.1555   True\n",
      "     2      9  -0.1892  0.001 -0.2312 -0.1472   True\n",
      "     2     10  -0.2291  0.001 -0.2728 -0.1855   True\n",
      "     2     11  -0.2398  0.001 -0.2836  -0.196   True\n",
      "     2     12  -0.1136  0.001 -0.1557 -0.0714   True\n",
      "     3      4  -0.0156    0.9 -0.0579  0.0267  False\n",
      "     3      5   0.0065    0.9 -0.0354  0.0485  False\n",
      "     3      6  -0.0136    0.9 -0.0556  0.0285  False\n",
      "     3      7   0.0129    0.9 -0.0287  0.0544  False\n",
      "     3      8    0.012    0.9   -0.03  0.0539  False\n",
      "     3      9   0.0199    0.9 -0.0224  0.0622  False\n",
      "     3     10  -0.0201    0.9  -0.064  0.0239  False\n",
      "     3     11  -0.0307 0.4927 -0.0748  0.0133  False\n",
      "     3     12   0.0955  0.001   0.053   0.138   True\n",
      "     4      5   0.0221 0.8596 -0.0205  0.0647  False\n",
      "     4      6    0.002    0.9 -0.0408  0.0448  False\n",
      "     4      7   0.0284 0.5447 -0.0139  0.0707  False\n",
      "     4      8   0.0275 0.5997 -0.0151  0.0702  False\n",
      "     4      9   0.0355 0.2285 -0.0075  0.0784  False\n",
      "     4     10  -0.0045    0.9 -0.0491  0.0401  False\n",
      "     4     11  -0.0152    0.9 -0.0599  0.0296  False\n",
      "     4     12   0.1111  0.001  0.0679  0.1543   True\n",
      "     5      6  -0.0201    0.9 -0.0625  0.0223  False\n",
      "     5      7   0.0063    0.9 -0.0356  0.0483  False\n",
      "     5      8   0.0054    0.9 -0.0369  0.0477  False\n",
      "     5      9   0.0133    0.9 -0.0293   0.056  False\n",
      "     5     10  -0.0266 0.6902 -0.0708  0.0176  False\n",
      "     5     11  -0.0373 0.2048 -0.0816  0.0071  False\n",
      "     5     12    0.089  0.001  0.0462  0.1318   True\n",
      "     6      7   0.0264 0.6362 -0.0157  0.0685  False\n",
      "     6      8   0.0255 0.6907 -0.0169  0.0679  False\n",
      "     6      9   0.0334 0.3065 -0.0093  0.0762  False\n",
      "     6     10  -0.0065    0.9 -0.0509  0.0379  False\n",
      "     6     11  -0.0172    0.9 -0.0617  0.0274  False\n",
      "     6     12   0.1091  0.001  0.0661  0.1521   True\n",
      "     7      8  -0.0009    0.9 -0.0429   0.041  False\n",
      "     7      9    0.007    0.9 -0.0353  0.0493  False\n",
      "     7     10  -0.0329 0.3752 -0.0768   0.011  False\n",
      "     7     11  -0.0436  0.056 -0.0877  0.0005  False\n",
      "     7     12   0.0827  0.001  0.0402  0.1252   True\n",
      "     8      9   0.0079    0.9 -0.0347  0.0506  False\n",
      "     8     10   -0.032 0.4354 -0.0763  0.0123  False\n",
      "     8     11  -0.0427 0.0736 -0.0871  0.0017  False\n",
      "     8     12   0.0836  0.001  0.0407  0.1264   True\n",
      "     9     10  -0.0399 0.1306 -0.0845  0.0046  False\n",
      "     9     11  -0.0506 0.0117 -0.0953 -0.0059   True\n",
      "     9     12   0.0756  0.001  0.0325  0.1188   True\n",
      "    10     11  -0.0107    0.9 -0.0569  0.0356  False\n",
      "    10     12   0.1156  0.001  0.0708  0.1604   True\n",
      "    11     12   0.1262  0.001  0.0813  0.1712   True\n",
      "----------------------------------------------------\n"
     ]
    }
   ],
   "source": [
    "from statsmodels.stats.multicomp import pairwise_tukeyhsd\n",
    "import statsmodels.api as sm\n",
    "from statsmodels.formula.api import ols\n",
    "\n",
    "tukey = pairwise_tukeyhsd(endog=benzo_df['benzo_count'], groups=benzo_df['month'], alpha=0.05)\n",
    "print(tukey)"
   ]
  },
  {
   "cell_type": "markdown",
   "metadata": {},
   "source": [
    "The results of the Pair-wise is that months 1,2,12 have statistically higher adverse event report counts than the other months. This means that **December, January, and February have statistically higher adverse events than any other months of the year.  Meaning that winter has the highest reports for the time period analyzed - 2015-2021.**"
   ]
  },
  {
   "cell_type": "markdown",
   "metadata": {},
   "source": [
    "Does this pattern hold for certain age groups?  "
   ]
  },
  {
   "cell_type": "code",
   "execution_count": 27,
   "metadata": {},
   "outputs": [
    {
     "data": {
      "text/html": [
       "<div>\n",
       "<style scoped>\n",
       "    .dataframe tbody tr th:only-of-type {\n",
       "        vertical-align: middle;\n",
       "    }\n",
       "\n",
       "    .dataframe tbody tr th {\n",
       "        vertical-align: top;\n",
       "    }\n",
       "\n",
       "    .dataframe thead th {\n",
       "        text-align: right;\n",
       "    }\n",
       "</style>\n",
       "<table border=\"1\" class=\"dataframe\">\n",
       "  <thead>\n",
       "    <tr style=\"text-align: right;\">\n",
       "      <th></th>\n",
       "      <th>age_bin</th>\n",
       "      <th>year</th>\n",
       "      <th>benzo_count</th>\n",
       "    </tr>\n",
       "  </thead>\n",
       "  <tbody>\n",
       "    <tr>\n",
       "      <th>0</th>\n",
       "      <td>&lt;10</td>\n",
       "      <td>2015</td>\n",
       "      <td>500</td>\n",
       "    </tr>\n",
       "    <tr>\n",
       "      <th>1</th>\n",
       "      <td>&lt;10</td>\n",
       "      <td>2016</td>\n",
       "      <td>613</td>\n",
       "    </tr>\n",
       "    <tr>\n",
       "      <th>2</th>\n",
       "      <td>&lt;10</td>\n",
       "      <td>2017</td>\n",
       "      <td>605</td>\n",
       "    </tr>\n",
       "    <tr>\n",
       "      <th>3</th>\n",
       "      <td>&lt;10</td>\n",
       "      <td>2018</td>\n",
       "      <td>661</td>\n",
       "    </tr>\n",
       "    <tr>\n",
       "      <th>4</th>\n",
       "      <td>&lt;10</td>\n",
       "      <td>2019</td>\n",
       "      <td>663</td>\n",
       "    </tr>\n",
       "  </tbody>\n",
       "</table>\n",
       "</div>"
      ],
      "text/plain": [
       "  age_bin  year  benzo_count\n",
       "0     <10  2015          500\n",
       "1     <10  2016          613\n",
       "2     <10  2017          605\n",
       "3     <10  2018          661\n",
       "4     <10  2019          663"
      ]
     },
     "execution_count": 27,
     "metadata": {},
     "output_type": "execute_result"
    }
   ],
   "source": [
    "#create bins\n",
    "bins = [-1,9,19,29,39,49,59,69,79,101]\n",
    "labels = [\"<10\",\"10-19\",\"20-29\",\"30-39\",\"40-49\",\"50-59\",\"60-69\",\"70-79\",\"80+\"]\n",
    "\n",
    "benzo_age_df = pd.cut(benzo_df['age'], bins=bins, labels=labels)\n",
    "\n",
    "#rename column\n",
    "benzo_age_df = pd.DataFrame(benzo_age_df).rename(columns={\"Age\":\"Age_Bin\"})\n",
    "\n",
    "#join bins back into original df\n",
    "benzo_join = benzo_df.join(benzo_age_df, lsuffix='_orig', rsuffix='_bin')\n",
    "benzo_join.head()\n",
    "\n",
    "benzo_age_grp = benzo_join.groupby([\"age_bin\", \"year\"])[\"benzo_count\"].sum().reset_index()\n",
    "benzo_age_grp.head()"
   ]
  },
  {
   "cell_type": "markdown",
   "metadata": {},
   "source": [
    "Charting the age groups - based on the box plots, age groups 50-59 and 60-69 have the highest event reporting (and are statistically significantly higher than the other age groups).  Does this group have seasonal trends as well?  "
   ]
  },
  {
   "cell_type": "code",
   "execution_count": 29,
   "metadata": {},
   "outputs": [
    {
     "data": {
      "image/png": "[encoded data removed]",
      "text/plain": [
       "<Figure size 432x288 with 1 Axes>"
      ]
     },
     "metadata": {
      "needs_background": "light"
     },
     "output_type": "display_data"
    }
   ],
   "source": [
    "benzo_age_sns = sns.boxplot(x=\"age_bin\",y=\"benzo_count\", data=benzo_age_grp)\n",
    "plt.title(\"Count of event reports by age for 2015-2021\")\n",
    "plt.xlabel(\"age groups\")\n",
    "plt.ylabel(\"Benzodiazapine Event Count\")\n",
    "plt.show()\n",
    "\n",
    "fig = benzo_age_sns.get_figure()\n",
    "fig.savefig('sns_benzo_box_age.svg')"
   ]
  },
  {
   "cell_type": "markdown",
   "metadata": {},
   "source": [
    "1-way ANOVA for benzodiazapine reports for age groups 50-59 and 60-69"
   ]
  },
  {
   "cell_type": "code",
   "execution_count": 30,
   "metadata": {},
   "outputs": [
    {
     "data": {
      "text/plain": [
       "F_onewayResult(statistic=53.65979803208144, pvalue=9.684339350843523e-119)"
      ]
     },
     "execution_count": 30,
     "metadata": {},
     "output_type": "execute_result"
    }
   ],
   "source": [
    "benzo5060 = benzo_join[(benzo_join['age_bin']==\"50-59\") | (benzo_join['age_bin']==\"60-69\")]\n",
    "benzo5060.tail()\n",
    "\n",
    "#ANOVA \n",
    "dataset=benzo5060\n",
    "stats.f_oneway(dataset['benzo_count'][dataset['month']==1],\n",
    "               dataset['benzo_count'][dataset['month']==2],\n",
    "               dataset['benzo_count'][dataset['month']==3],\n",
    "               dataset['benzo_count'][dataset['month']==4],\n",
    "               dataset['benzo_count'][dataset['month']==5],\n",
    "               dataset['benzo_count'][dataset['month']==6],\n",
    "               dataset['benzo_count'][dataset['month']==7],\n",
    "               dataset['benzo_count'][dataset['month']==8],\n",
    "               dataset['benzo_count'][dataset['month']==9],\n",
    "               dataset['benzo_count'][dataset['month']==10],\n",
    "               dataset['benzo_count'][dataset['month']==11],\n",
    "               dataset['benzo_count'][dataset['month']==12])\n"
   ]
  },
  {
   "cell_type": "code",
   "execution_count": 31,
   "metadata": {},
   "outputs": [],
   "source": [
    "tukey = pairwise_tukeyhsd(endog=benzo_df['benzo_count'], groups=benzo_df['month'], alpha=0.05)\n",
    "#print(tukey)  #if you want to see the tukey table, then use this print statement.  For simplicity, it's not printed out"
   ]
  },
  {
   "cell_type": "markdown",
   "metadata": {},
   "source": [
    "Statistics results - Month for these age groups (50-69 years old) is statistically significant, and the results of the pair-wise post-hoc Tukey test shows that the **same months of December, January and February have statistically higher counts of adverse event reports than other times of the year.**"
   ]
  },
  {
   "cell_type": "code",
   "execution_count": 33,
   "metadata": {},
   "outputs": [
    {
     "data": {
      "image/png": "[encoded data removed]",
      "text/plain": [
       "<Figure size 432x288 with 1 Axes>"
      ]
     },
     "metadata": {
      "needs_background": "light"
     },
     "output_type": "display_data"
    }
   ],
   "source": [
    "benzo5060_bar = benzo5060.groupby(\"month\")[\"benzo_count\"].sum().reset_index()\n",
    "benzo_5060_mo_bar = sns.barplot(x=\"month\",y=\"benzo_count\", data=benzo5060_bar, ci=None)\n",
    "plt.title(\"Count of event reports for ages 50-59 and 60-69 age groups by month for 2015-2021\")\n",
    "plt.xlabel(\"Month\")\n",
    "plt.ylabel(\"Benzodiazapine Event Count\")\n",
    "plt.show()\n",
    "\n",
    "fig = benzo_5060_mo_bar.get_figure()\n",
    "fig.savefig('sns_benzo_bar_age.svg')"
   ]
  },
  {
   "cell_type": "markdown",
   "metadata": {},
   "source": [
    "## Jamie's section starts here\n",
    "\n",
    "----"
   ]
  },
  {
   "cell_type": "code",
   "execution_count": null,
   "metadata": {},
   "outputs": [],
   "source": []
  }
 ],
 "metadata": {
  "kernelspec": {
   "display_name": "Python 3",
   "language": "python",
   "name": "python3"
  },
  "language_info": {
   "codemirror_mode": {
    "name": "ipython",
    "version": 3
   },
   "file_extension": ".py",
   "mimetype": "text/x-python",
   "name": "python",
   "nbconvert_exporter": "python",
   "pygments_lexer": "ipython3",
   "version": "3.7.3"
  }
 },
 "nbformat": 4,
 "nbformat_minor": 2
}
